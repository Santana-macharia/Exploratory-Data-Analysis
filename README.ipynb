{
 "cells": [
  {
   "cell_type": "markdown",
   "metadata": {},
   "source": [
    "# Welcome"
   ]
  },
  {
   "cell_type": "markdown",
   "metadata": {},
   "source": [
    "Welcome to the course! This notebook will outline our structure for the course, and introduce you to the notebook if you haven't used it before."
   ]
  },
  {
   "cell_type": "markdown",
   "metadata": {},
   "source": [
    "## Background Expectations\n",
    "\n",
    "- Hopefully you have used Python before, if not, don't worry \n",
    "- Experience with Pandas will be helpful, but not required\n",
    "- Data exploration will be the primary focus\n",
    "- We'll see bits of matplot and seaborn"
   ]
  },
  {
   "cell_type": "markdown",
   "metadata": {},
   "source": [
    "## Course Presentation\n",
    "\n",
    "- I will have slides\n",
    "- We will work through notebooks (execute each cell)\n"
   ]
  },
  {
   "cell_type": "markdown",
   "metadata": {},
   "source": [
    "## Notebooks\n",
    "1. [Pandas Refresher](Pandas-Crash-Course.ipynb))\n",
    "2. [Univariate Analysis](Univariate-Analysis.ipynb)\n",
    "3. [Bivariate Analysis](Bivariate-Analysis.ipynb)\n",
    "4. [Missing Values](Missing-Values.ipynb)\n",
    "5. [Outliers](Outliers.ipynb)\n"
   ]
  }
 ],
 "metadata": {
  "kernelspec": {
   "display_name": "Python 3",
   "language": "python",
   "name": "python3"
  },
  "language_info": {
   "codemirror_mode": {
    "name": "ipython",
    "version": 3
   },
   "file_extension": ".py",
   "mimetype": "text/x-python",
   "name": "python",
   "nbconvert_exporter": "python",
   "pygments_lexer": "ipython3",
   "version": "3.6.5"
  }
 },
 "nbformat": 4,
 "nbformat_minor": 2
}
